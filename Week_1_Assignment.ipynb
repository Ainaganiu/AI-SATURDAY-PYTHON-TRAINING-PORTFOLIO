{
 "cells": [
  {
   "cell_type": "markdown",
   "id": "0d84b1df",
   "metadata": {},
   "source": [
    "## Set Exercises\n",
    "\n",
    "---\n",
    "* Given two sets, find their intersection.\n",
    "* Given two sets, find their union.\n",
    "* Given a set, check if it is a subset of another set.\n",
    "* Given a set of numbers, find the maximum value.\n",
    "* Given a set of strings, find the longest string.\n",
    "* Given two sets, find their symmetric difference.\n",
    "* Given a set, remove all even numbers from it.\n",
    "* Given a set, remove duplicates from it.\n",
    "* Given two sets, find their difference.\n",
    "* Given a set, check if it is empty."
   ]
  },
  {
   "cell_type": "markdown",
   "id": "a40cf0aa",
   "metadata": {},
   "source": [
    "#### Given two sets, find their intersection\n",
    "\n",
    "Sets are mutable unordered collections of unique elements.  \n",
    "Common uses include membership testing, removing duplicates from a sequence, and computing standard math operations on sets such as intersection, union, difference, and symmetric difference."
   ]
  },
  {
   "cell_type": "code",
   "execution_count": 1,
   "id": "e5bc537b",
   "metadata": {},
   "outputs": [],
   "source": [
    "# Let create two set\n",
    "set_one = {1,2,3,4,5}\n",
    "set_two = {2,3,4,5,6,7}"
   ]
  },
  {
   "cell_type": "code",
   "execution_count": 2,
   "id": "727236c6",
   "metadata": {},
   "outputs": [
    {
     "name": "stdout",
     "output_type": "stream",
     "text": [
      "{2, 3, 4, 5}\n"
     ]
    }
   ],
   "source": [
    "# Let find the intersection\n",
    "\n",
    "set_intersection = set_one.intersection(set_two)\n",
    "print(set_intersection)"
   ]
  },
  {
   "cell_type": "code",
   "execution_count": 3,
   "id": "ee4a4e6f",
   "metadata": {},
   "outputs": [
    {
     "name": "stdout",
     "output_type": "stream",
     "text": [
      "{1, 2, 3, 4, 5, 6, 7}\n"
     ]
    }
   ],
   "source": [
    "# Union of the set\n",
    "set_union = set_one.union(set_two)\n",
    "print(set_union)"
   ]
  },
  {
   "cell_type": "code",
   "execution_count": 4,
   "id": "0d3a400d",
   "metadata": {},
   "outputs": [
    {
     "name": "stdout",
     "output_type": "stream",
     "text": [
      "True\n"
     ]
    }
   ],
   "source": [
    "# check if it is a subset of another set.\n",
    "# The \"issubset()\" function Returns whether another set contains this set or not\n",
    "# Let create a new set\n",
    "\n",
    "set_a = {2,3,4}\n",
    "set_b = {3,4,5,2,5}\n",
    "\n",
    "set_subset = set_a.issubset(set_b)\n",
    "print(set_subset)"
   ]
  },
  {
   "cell_type": "code",
   "execution_count": 5,
   "id": "abb78d97",
   "metadata": {},
   "outputs": [
    {
     "name": "stdout",
     "output_type": "stream",
     "text": [
      "4\n",
      "Pineaple\n"
     ]
    }
   ],
   "source": [
    "# Given a set of strings, find the longest string\n",
    "set_one = {\"Apple\", \"Banana\", \"PawPaw\", \"Pineaple\"}\n",
    "\n",
    "# Let use the len() funtion to determine the number  of element in a set\n",
    "\n",
    "print(len(set_one))\n",
    "# We use the max function\n",
    "\n",
    "print(max(set_one))"
   ]
  },
  {
   "cell_type": "code",
   "execution_count": 6,
   "id": "267a9c2e",
   "metadata": {},
   "outputs": [
    {
     "name": "stdout",
     "output_type": "stream",
     "text": [
      "4\n"
     ]
    }
   ],
   "source": [
    "# Given a set of numbers, find the maximum value\n",
    "set_a = {2,3,4}\n",
    "print(max(set_a))"
   ]
  },
  {
   "cell_type": "code",
   "execution_count": 7,
   "id": "fd7c8b12",
   "metadata": {},
   "outputs": [
    {
     "name": "stdout",
     "output_type": "stream",
     "text": [
      "{1, 2, 3, 6, 7, 8, 9, 10}\n"
     ]
    }
   ],
   "source": [
    "# Given two sets, find their symmetric difference\n",
    "# The symmetric_difference() returns set contains a mix of items that are not present in both sets\n",
    "\n",
    "set_one = {1,10,8,9,4,5}\n",
    "set_two = {2,3,4,5,6,7}\n",
    "\n",
    "print(set_one.symmetric_difference(set_two))"
   ]
  },
  {
   "cell_type": "code",
   "execution_count": 8,
   "id": "22e8ea7b",
   "metadata": {},
   "outputs": [],
   "source": [
    "set_one = {1,10,8,12,4}"
   ]
  },
  {
   "cell_type": "code",
   "execution_count": 9,
   "id": "25db53a6",
   "metadata": {},
   "outputs": [
    {
     "name": "stdout",
     "output_type": "stream",
     "text": [
      "{1}\n"
     ]
    }
   ],
   "source": [
    "#Given a set, remove all even numbers from it\n",
    "new_set = set()\n",
    "for i in set_one:\n",
    "    divid = i%2\n",
    "    if divid !=0:\n",
    "        new_set.add(i)\n",
    "print(new_set)"
   ]
  },
  {
   "cell_type": "code",
   "execution_count": 79,
   "id": "7e1e52c0",
   "metadata": {},
   "outputs": [
    {
     "name": "stdout",
     "output_type": "stream",
     "text": [
      "{1}\n"
     ]
    }
   ],
   "source": [
    "# Another method of solving example above\n",
    "new_set = set()\n",
    "for i in set_one:\n",
    "    if(i%2!=0):\n",
    "        new_set.add(i)\n",
    "print(new_set)"
   ]
  },
  {
   "cell_type": "code",
   "execution_count": null,
   "id": "6694b6da",
   "metadata": {},
   "outputs": [],
   "source": [
    "# Given a set, remove duplicates from it\n",
    "set_one = {1,10,11,11,10,10,8,9,4,5}\n",
    "\n",
    "# Since set does not allow duplicates we create a new set\n",
    "new_set = set(set_one)\n",
    "print(new_set)"
   ]
  },
  {
   "cell_type": "code",
   "execution_count": null,
   "id": "e623d082",
   "metadata": {},
   "outputs": [],
   "source": [
    "# Given two sets, find their difference\n",
    "set_one = {1,2,3,4,5}\n",
    "set_two = {2,3,4,5,6,7}\n",
    "set_one.difference(set_two)\n",
    "\n",
    "#The returned set contains a mix of items that are not present in both sets"
   ]
  },
  {
   "cell_type": "code",
   "execution_count": null,
   "id": "de95a3cb",
   "metadata": {},
   "outputs": [],
   "source": [
    "#Given a set, check if it is empty\n",
    "set_one = {}\n",
    "if len(set_one) !=0:\n",
    "    print(\"Not empty\")\n",
    "else:\n",
    "    print(\"Empty set\")\n",
    "    "
   ]
  },
  {
   "cell_type": "markdown",
   "id": "3e88fde5",
   "metadata": {},
   "source": [
    "## List Exercises\n",
    "---\n",
    "\n",
    "* Given a list, find its length.\n",
    "* Given a list, find the sum of all its elements.\n",
    "* Given a list, find the maximum value.\n",
    "* Given a list, find the minimum value.\n",
    "* Given a list, find the average value.\n",
    "* Given a list, find the median value.\n",
    "* Given a list, find the mode value.\n",
    "* Given a list, remove all even numbers from it.\n",
    "* Given a list, sort it in ascending order.\n",
    "* Given a list, reverse its order."
   ]
  },
  {
   "cell_type": "code",
   "execution_count": 11,
   "id": "a5a17f34",
   "metadata": {},
   "outputs": [
    {
     "data": {
      "text/plain": [
       "['Ganiu', 'Ayo', 'Tunde']"
      ]
     },
     "execution_count": 11,
     "metadata": {},
     "output_type": "execute_result"
    }
   ],
   "source": [
    "list_one = [\"Ganiu\", \"Ayo\", \"Tunde\"]\n",
    "list_one"
   ]
  },
  {
   "cell_type": "code",
   "execution_count": 12,
   "id": "98a36f08",
   "metadata": {},
   "outputs": [
    {
     "name": "stdout",
     "output_type": "stream",
     "text": [
      "The length of element in this list is 3\n"
     ]
    }
   ],
   "source": [
    "#Given a list, find its length.\n",
    "list_lenght = len(list_one)\n",
    "print(\"The length of element in this list is {}\".format(list_lenght))"
   ]
  },
  {
   "cell_type": "code",
   "execution_count": 13,
   "id": "3d02396d",
   "metadata": {},
   "outputs": [
    {
     "name": "stdout",
     "output_type": "stream",
     "text": [
      "The sum of the list is 144\n"
     ]
    }
   ],
   "source": [
    "#Given a list, find the sum of all its elements.\n",
    "num_list = [21,34,21,23,45]\n",
    "sum_list = sum(num_list)\n",
    "print(\"The sum of the list is {}\".format(sum_list))"
   ]
  },
  {
   "cell_type": "code",
   "execution_count": 14,
   "id": "c888a50e",
   "metadata": {},
   "outputs": [
    {
     "name": "stdout",
     "output_type": "stream",
     "text": [
      "Average of the list is 48.0 \n"
     ]
    }
   ],
   "source": [
    "#Given a list, find the average value.\n",
    "# Since their is no built in average function we add the sum divide by the length\n",
    "avg_list= sum_list/list_lenght\n",
    "print(\"Average of the list is {} \".format(round(avg_list,2)))"
   ]
  },
  {
   "cell_type": "code",
   "execution_count": 15,
   "id": "796eba1b",
   "metadata": {},
   "outputs": [
    {
     "name": "stdout",
     "output_type": "stream",
     "text": [
      "The median value = 23\n"
     ]
    }
   ],
   "source": [
    "# Given a list, find the median value.\n",
    "# To find the median we import statistics library\n",
    "import statistics as st\n",
    "list_median = st.median(num_list)\n",
    "print(\"The median value = {}\".format(list_median))"
   ]
  },
  {
   "cell_type": "code",
   "execution_count": 16,
   "id": "d5b6de36",
   "metadata": {},
   "outputs": [
    {
     "name": "stdout",
     "output_type": "stream",
     "text": [
      "The mode of the list is 21\n"
     ]
    }
   ],
   "source": [
    "# Given a list, find the mode value\n",
    "list_mode = st.mode(num_list)\n",
    "print(\"The mode of the list is {}\".format(list_mode))"
   ]
  },
  {
   "cell_type": "code",
   "execution_count": 17,
   "id": "d819c428",
   "metadata": {},
   "outputs": [
    {
     "name": "stdout",
     "output_type": "stream",
     "text": [
      "[1, 3, 5]\n"
     ]
    }
   ],
   "source": [
    "# Given a list, remove all even numbers from it.\n",
    "list_one = [1,3,6,5,6,8]\n",
    "new_list = list()\n",
    "for i in list_one:\n",
    "    divid = i%2\n",
    "    if (divid !=0):\n",
    "# Since list is mutable we can use the add function or append it to a new list\n",
    "        new_list.append(i)\n",
    "print(new_list)"
   ]
  },
  {
   "cell_type": "code",
   "execution_count": 18,
   "id": "a0e23034",
   "metadata": {},
   "outputs": [
    {
     "name": "stdout",
     "output_type": "stream",
     "text": [
      "[1, 5, 6, 6, 7, 8]\n"
     ]
    }
   ],
   "source": [
    "#Given a list, sort it in ascending order.\n",
    "list_one = [1,7,6,5,6,8]\n",
    "list_one.sort()\n",
    "print(list_one)"
   ]
  },
  {
   "cell_type": "code",
   "execution_count": 19,
   "id": "f9ee174e",
   "metadata": {},
   "outputs": [
    {
     "name": "stdout",
     "output_type": "stream",
     "text": [
      "[8, 7, 6, 6, 5, 1]\n"
     ]
    }
   ],
   "source": [
    "#Given a list, sort it in descending order.\n",
    "list_one = [1,7,6,5,6,8]\n",
    "list_one.sort(reverse=True)\n",
    "print(list_one)"
   ]
  },
  {
   "cell_type": "markdown",
   "id": "0f6c253f",
   "metadata": {},
   "source": [
    "**Tuple Exercises**\n",
    "\n",
    "---\n",
    "* Given a tuple, find its length.\n",
    "* Given a tuple, find the maximum value.\n",
    "* Given a tuple, find the minimum value.\n",
    "* Given a tuple, find the sum of all its elements.\n",
    "* Given a tuple, find the average value.\n",
    "* Given a tuple, find the median value.\n",
    "* Given a tuple, convert it to a list.\n",
    "* Given two tuples, concatenate them into a single tuple.\n",
    "* Given a tuple, reverse its order.\n",
    "* Given a tuple, check if it contains a specific element.\n"
   ]
  },
  {
   "cell_type": "markdown",
   "id": "cb3b8ba9",
   "metadata": {},
   "source": [
    "A tuple is a collection which is ordered and unchangeable. It also allows duplicates  \n",
    "A tuple can contain different data types"
   ]
  },
  {
   "cell_type": "code",
   "execution_count": 20,
   "id": "2bac8806",
   "metadata": {},
   "outputs": [
    {
     "data": {
      "text/plain": [
       "('Orange', 'Banana', 'Apple', 'Mango', 'Apple', 23, 55.4)"
      ]
     },
     "execution_count": 20,
     "metadata": {},
     "output_type": "execute_result"
    }
   ],
   "source": [
    "my_tuple = ('Orange','Banana', 'Apple','Mango','Apple', 23, 55.4)\n",
    "my_tuple"
   ]
  },
  {
   "cell_type": "code",
   "execution_count": 21,
   "id": "211b5e67",
   "metadata": {},
   "outputs": [
    {
     "name": "stdout",
     "output_type": "stream",
     "text": [
      "The length of tuple is 7\n"
     ]
    }
   ],
   "source": [
    "#Given a tuple, find its length\n",
    "tuple_lenght = len(my_tuple)\n",
    "print(\"The length of tuple is {}\".format(tuple_lenght))"
   ]
  },
  {
   "cell_type": "code",
   "execution_count": 22,
   "id": "fc2868a8",
   "metadata": {},
   "outputs": [
    {
     "name": "stdout",
     "output_type": "stream",
     "text": [
      "88\n"
     ]
    }
   ],
   "source": [
    "#Given a tuple, find the maximum value\n",
    "num_tuple = (2,4,54,88,32,32,11)\n",
    "max_tuple = max(num_tuple)\n",
    "print(max_tuple)"
   ]
  },
  {
   "cell_type": "code",
   "execution_count": 23,
   "id": "524caf69",
   "metadata": {},
   "outputs": [
    {
     "name": "stdout",
     "output_type": "stream",
     "text": [
      "2\n"
     ]
    }
   ],
   "source": [
    "#Given a tuple, find the minimum value\n",
    "min_tuple = min(num_tuple)\n",
    "print(min_tuple)"
   ]
  },
  {
   "cell_type": "code",
   "execution_count": 24,
   "id": "0132a6c8",
   "metadata": {},
   "outputs": [
    {
     "name": "stdout",
     "output_type": "stream",
     "text": [
      "223\n"
     ]
    }
   ],
   "source": [
    "# Given a tuple, find the sum of all its elements\n",
    "sum_tuple = sum(num_tuple)\n",
    "print(sum_tuple)"
   ]
  },
  {
   "cell_type": "code",
   "execution_count": 25,
   "id": "e40f4d5d",
   "metadata": {},
   "outputs": [
    {
     "name": "stdout",
     "output_type": "stream",
     "text": [
      "32\n"
     ]
    }
   ],
   "source": [
    "# Given a tuple, find the median value\n",
    "import statistics as st\n",
    "median_tuple = st.median(num_tuple)\n",
    "print(median_tuple)"
   ]
  },
  {
   "cell_type": "code",
   "execution_count": 26,
   "id": "86c9da4d",
   "metadata": {},
   "outputs": [
    {
     "name": "stdout",
     "output_type": "stream",
     "text": [
      "<class 'list'>\n"
     ]
    }
   ],
   "source": [
    "# Given a tuple, convert it to a list\n",
    "tuple_list = list(num_tuple)\n",
    "print(type(tuple_list))"
   ]
  },
  {
   "cell_type": "code",
   "execution_count": 27,
   "id": "48141539",
   "metadata": {},
   "outputs": [
    {
     "name": "stdout",
     "output_type": "stream",
     "text": [
      "(23, 11, 43, 22, 'male', 'female')\n"
     ]
    }
   ],
   "source": [
    "# Given two tuples, concatenate them into a single tuple\n",
    "age = (23,11,43,22)\n",
    "gender = ('male','female')\n",
    "\n",
    "# we can combine tuples with +\n",
    "\n",
    "joined_tuple = age + gender\n",
    "print(joined_tuple)"
   ]
  },
  {
   "cell_type": "code",
   "execution_count": 28,
   "id": "0b33bcd2",
   "metadata": {},
   "outputs": [
    {
     "name": "stdout",
     "output_type": "stream",
     "text": [
      "[43, 23, 22, 11]\n"
     ]
    }
   ],
   "source": [
    "# Given a tuple, reverse its order.\n",
    "age = (23,11,43,22)\n",
    "sorted_tuple = sorted(age,reverse=True)\n",
    "print(sorted_tuple)"
   ]
  },
  {
   "cell_type": "code",
   "execution_count": 29,
   "id": "8c0a2b7e",
   "metadata": {},
   "outputs": [
    {
     "name": "stdout",
     "output_type": "stream",
     "text": [
      "True\n"
     ]
    }
   ],
   "source": [
    "# Given a tuple, check if it contains a specific element. We can use (in)\n",
    "print(23 in age)"
   ]
  },
  {
   "cell_type": "markdown",
   "id": "a38c3503",
   "metadata": {},
   "source": [
    "## Map Exercises\n",
    "___\n",
    "* Given a list of temperatures in Celsius, use the map() function to convert them to Fahrenheit.\n",
    "* Given a list of strings, use the map() function to convert them to lowercase.\n",
    "* Given a DataFrame of customer names, use the map() function to create a new column of initials.\n",
    "* Given a DataFrame of product prices, use the map() function to apply a discount of 10% to each price.\n",
    "* Given a list of numbers, use the map() function to round them to the nearest integer.\n",
    "* Given a list of tuples, use the map() function to create a new list of the first elements of each tuple.\n",
    "* Given a list of dictionary objects, use the map() function to create a new list of values for a specific key.\n",
    "* Given a DataFrame of dates, use the map() function to create a new column of day of week.\n",
    "* Given a list of strings, use the map() function to split each string into a list of words.\n",
    "* Given a DataFrame of product descriptions, use the map() function to create a new column of word counts.\n"
   ]
  },
  {
   "cell_type": "markdown",
   "id": "81dae3de",
   "metadata": {},
   "source": [
    "The map() function can be used to transform data in a DataFrame or Series. "
   ]
  },
  {
   "cell_type": "code",
   "execution_count": 30,
   "id": "25c466c2",
   "metadata": {},
   "outputs": [
    {
     "data": {
      "text/html": [
       "<div>\n",
       "<style scoped>\n",
       "    .dataframe tbody tr th:only-of-type {\n",
       "        vertical-align: middle;\n",
       "    }\n",
       "\n",
       "    .dataframe tbody tr th {\n",
       "        vertical-align: top;\n",
       "    }\n",
       "\n",
       "    .dataframe thead th {\n",
       "        text-align: right;\n",
       "    }\n",
       "</style>\n",
       "<table border=\"1\" class=\"dataframe\">\n",
       "  <thead>\n",
       "    <tr style=\"text-align: right;\">\n",
       "      <th></th>\n",
       "      <th>celcius</th>\n",
       "      <th>fahrenheit</th>\n",
       "    </tr>\n",
       "  </thead>\n",
       "  <tbody>\n",
       "    <tr>\n",
       "      <th>0</th>\n",
       "      <td>23</td>\n",
       "      <td>76.4</td>\n",
       "    </tr>\n",
       "    <tr>\n",
       "      <th>1</th>\n",
       "      <td>45</td>\n",
       "      <td>116.0</td>\n",
       "    </tr>\n",
       "    <tr>\n",
       "      <th>2</th>\n",
       "      <td>12</td>\n",
       "      <td>56.6</td>\n",
       "    </tr>\n",
       "    <tr>\n",
       "      <th>3</th>\n",
       "      <td>33</td>\n",
       "      <td>94.4</td>\n",
       "    </tr>\n",
       "  </tbody>\n",
       "</table>\n",
       "</div>"
      ],
      "text/plain": [
       "   celcius  fahrenheit\n",
       "0       23        76.4\n",
       "1       45       116.0\n",
       "2       12        56.6\n",
       "3       33        94.4"
      ]
     },
     "execution_count": 30,
     "metadata": {},
     "output_type": "execute_result"
    }
   ],
   "source": [
    "# Given a list of temperatures in Celsius, use the map() function to convert them to Fahrenheit\n",
    "import pandas as pd\n",
    "temp = pd.DataFrame({'celcius':[23,45,12,33]})\n",
    "temp['fahrenheit'] = temp['celcius'].map(lambda x: ((x*9/5)+35))\n",
    "temp.head()"
   ]
  },
  {
   "cell_type": "code",
   "execution_count": 31,
   "id": "0f56fb88",
   "metadata": {},
   "outputs": [
    {
     "name": "stdout",
     "output_type": "stream",
     "text": [
      "['apple', 'mango', 'orange']\n"
     ]
    }
   ],
   "source": [
    "# Given a list of strings, use the map() function to convert them to lowercase.\n",
    "name = ['APPLE','MANGO','ORANGE']\n",
    "lower_name = map(lambda x: x.lower(), name)\n",
    "# Let convert it to list to print the output out\n",
    "convert_list = list(lower_name)\n",
    "print(convert_list)"
   ]
  },
  {
   "cell_type": "code",
   "execution_count": 32,
   "id": "c7678db8",
   "metadata": {},
   "outputs": [],
   "source": [
    "# Given a DataFrame of customer names, use the map() function to create a new column of initials\n",
    "\n",
    "# Let create a funtion that will take-in the first and last name, change it to upper case and return the initials \n",
    "\n",
    "def name_initials(name):\n",
    "    names = name.upper()\n",
    "    names = names.split(\" \")\n",
    "    return names[0][0] + \".\" + names[1][0]"
   ]
  },
  {
   "cell_type": "code",
   "execution_count": 33,
   "id": "ddf4cc14",
   "metadata": {},
   "outputs": [],
   "source": [
    "# Let create the dataframe\n",
    "import pandas as pd\n",
    "customers_name = pd.DataFrame({'full_name':['babatunde Samuel','Ganiu Aina',\n",
    "                                'Muhammadu Buhari', 'Bola Ahmed', 'Atiku Abubakar']})"
   ]
  },
  {
   "cell_type": "code",
   "execution_count": 34,
   "id": "ba1fe6dd",
   "metadata": {},
   "outputs": [
    {
     "data": {
      "text/html": [
       "<div>\n",
       "<style scoped>\n",
       "    .dataframe tbody tr th:only-of-type {\n",
       "        vertical-align: middle;\n",
       "    }\n",
       "\n",
       "    .dataframe tbody tr th {\n",
       "        vertical-align: top;\n",
       "    }\n",
       "\n",
       "    .dataframe thead th {\n",
       "        text-align: right;\n",
       "    }\n",
       "</style>\n",
       "<table border=\"1\" class=\"dataframe\">\n",
       "  <thead>\n",
       "    <tr style=\"text-align: right;\">\n",
       "      <th></th>\n",
       "      <th>full_name</th>\n",
       "      <th>initials</th>\n",
       "    </tr>\n",
       "  </thead>\n",
       "  <tbody>\n",
       "    <tr>\n",
       "      <th>0</th>\n",
       "      <td>babatunde Samuel</td>\n",
       "      <td>B.S</td>\n",
       "    </tr>\n",
       "    <tr>\n",
       "      <th>1</th>\n",
       "      <td>Ganiu Aina</td>\n",
       "      <td>G.A</td>\n",
       "    </tr>\n",
       "    <tr>\n",
       "      <th>2</th>\n",
       "      <td>Muhammadu Buhari</td>\n",
       "      <td>M.B</td>\n",
       "    </tr>\n",
       "    <tr>\n",
       "      <th>3</th>\n",
       "      <td>Bola Ahmed</td>\n",
       "      <td>B.A</td>\n",
       "    </tr>\n",
       "    <tr>\n",
       "      <th>4</th>\n",
       "      <td>Atiku Abubakar</td>\n",
       "      <td>A.A</td>\n",
       "    </tr>\n",
       "  </tbody>\n",
       "</table>\n",
       "</div>"
      ],
      "text/plain": [
       "          full_name initials\n",
       "0  babatunde Samuel      B.S\n",
       "1        Ganiu Aina      G.A\n",
       "2  Muhammadu Buhari      M.B\n",
       "3        Bola Ahmed      B.A\n",
       "4    Atiku Abubakar      A.A"
      ]
     },
     "execution_count": 34,
     "metadata": {},
     "output_type": "execute_result"
    }
   ],
   "source": [
    "customers_name['initials'] = customers_name['full_name'].map(name_initials)\n",
    "customers_name"
   ]
  },
  {
   "cell_type": "code",
   "execution_count": 35,
   "id": "40f968c5",
   "metadata": {},
   "outputs": [
    {
     "data": {
      "text/html": [
       "<div>\n",
       "<style scoped>\n",
       "    .dataframe tbody tr th:only-of-type {\n",
       "        vertical-align: middle;\n",
       "    }\n",
       "\n",
       "    .dataframe tbody tr th {\n",
       "        vertical-align: top;\n",
       "    }\n",
       "\n",
       "    .dataframe thead th {\n",
       "        text-align: right;\n",
       "    }\n",
       "</style>\n",
       "<table border=\"1\" class=\"dataframe\">\n",
       "  <thead>\n",
       "    <tr style=\"text-align: right;\">\n",
       "      <th></th>\n",
       "      <th>total_price</th>\n",
       "    </tr>\n",
       "  </thead>\n",
       "  <tbody>\n",
       "    <tr>\n",
       "      <th>0</th>\n",
       "      <td>3400</td>\n",
       "    </tr>\n",
       "    <tr>\n",
       "      <th>1</th>\n",
       "      <td>22340</td>\n",
       "    </tr>\n",
       "    <tr>\n",
       "      <th>2</th>\n",
       "      <td>19000</td>\n",
       "    </tr>\n",
       "    <tr>\n",
       "      <th>3</th>\n",
       "      <td>12000</td>\n",
       "    </tr>\n",
       "  </tbody>\n",
       "</table>\n",
       "</div>"
      ],
      "text/plain": [
       "   total_price\n",
       "0         3400\n",
       "1        22340\n",
       "2        19000\n",
       "3        12000"
      ]
     },
     "execution_count": 35,
     "metadata": {},
     "output_type": "execute_result"
    }
   ],
   "source": [
    "# Given a DataFrame of product prices, use the map() function to apply a discount of 10% to each price\n",
    "prices_data = pd.DataFrame({'total_price':[3400,22340,19000,12000]})\n",
    "prices_data"
   ]
  },
  {
   "cell_type": "code",
   "execution_count": 36,
   "id": "3561054c",
   "metadata": {},
   "outputs": [
    {
     "data": {
      "text/html": [
       "<div>\n",
       "<style scoped>\n",
       "    .dataframe tbody tr th:only-of-type {\n",
       "        vertical-align: middle;\n",
       "    }\n",
       "\n",
       "    .dataframe tbody tr th {\n",
       "        vertical-align: top;\n",
       "    }\n",
       "\n",
       "    .dataframe thead th {\n",
       "        text-align: right;\n",
       "    }\n",
       "</style>\n",
       "<table border=\"1\" class=\"dataframe\">\n",
       "  <thead>\n",
       "    <tr style=\"text-align: right;\">\n",
       "      <th></th>\n",
       "      <th>total_price</th>\n",
       "      <th>discounted_price</th>\n",
       "    </tr>\n",
       "  </thead>\n",
       "  <tbody>\n",
       "    <tr>\n",
       "      <th>0</th>\n",
       "      <td>3400</td>\n",
       "      <td>340.0</td>\n",
       "    </tr>\n",
       "    <tr>\n",
       "      <th>1</th>\n",
       "      <td>22340</td>\n",
       "      <td>2234.0</td>\n",
       "    </tr>\n",
       "    <tr>\n",
       "      <th>2</th>\n",
       "      <td>19000</td>\n",
       "      <td>1900.0</td>\n",
       "    </tr>\n",
       "    <tr>\n",
       "      <th>3</th>\n",
       "      <td>12000</td>\n",
       "      <td>1200.0</td>\n",
       "    </tr>\n",
       "  </tbody>\n",
       "</table>\n",
       "</div>"
      ],
      "text/plain": [
       "   total_price  discounted_price\n",
       "0         3400             340.0\n",
       "1        22340            2234.0\n",
       "2        19000            1900.0\n",
       "3        12000            1200.0"
      ]
     },
     "execution_count": 36,
     "metadata": {},
     "output_type": "execute_result"
    }
   ],
   "source": [
    "prices_data['discounted_price'] = prices_data['total_price'].map(lambda x: x*(10/100))\n",
    "prices_data"
   ]
  },
  {
   "cell_type": "code",
   "execution_count": 37,
   "id": "0a068054",
   "metadata": {},
   "outputs": [
    {
     "name": "stdout",
     "output_type": "stream",
     "text": [
      "[22, 43, 19, 24]\n"
     ]
    }
   ],
   "source": [
    "# Given a list of numbers, use the map() function to round them to the nearest integer.\n",
    "float_number = [22.3, 43.789, 19.33,24.545]\n",
    "int_number = map(lambda x: int(x), float_number)\n",
    "# Let convert it to list to print the output out\n",
    "convert_list = list(int_number)\n",
    "print(convert_list)"
   ]
  },
  {
   "cell_type": "code",
   "execution_count": 38,
   "id": "3c1a0474",
   "metadata": {},
   "outputs": [],
   "source": [
    "# Given a list of tuples, use the map() function to create a new list of the first elements of each tuple.\n",
    "tuple_list = ('Orange', 'Banana', 'Mango')"
   ]
  },
  {
   "cell_type": "code",
   "execution_count": 39,
   "id": "12612215",
   "metadata": {},
   "outputs": [],
   "source": [
    "converted_tuple = list(map(lambda x: x[0], tuple_list))"
   ]
  },
  {
   "cell_type": "code",
   "execution_count": 40,
   "id": "f7f2f710",
   "metadata": {},
   "outputs": [
    {
     "data": {
      "text/plain": [
       "['O', 'B', 'M']"
      ]
     },
     "execution_count": 40,
     "metadata": {},
     "output_type": "execute_result"
    }
   ],
   "source": [
    "converted_tuple"
   ]
  },
  {
   "cell_type": "code",
   "execution_count": 41,
   "id": "f8dbcd8a",
   "metadata": {},
   "outputs": [],
   "source": [
    "# Given a list of dictionary objects, use the map() function to create a new list of values for a specific key.\n",
    "my_list = [{'a': 1, 'b': 2}, {'a': 3, 'b': 4}, {'a': 5, 'b': 6}]\n",
    "new_list = list(map(lambda x: x['a'], my_list))"
   ]
  },
  {
   "cell_type": "code",
   "execution_count": 42,
   "id": "14b95b89",
   "metadata": {},
   "outputs": [],
   "source": [
    "my_list = [{'a': 1, 'b': 2}, {'a': 3, 'b': 4}, {'a': 5, 'b': 6}]\n",
    "new_list = list(map(lambda x: x['a'], my_list))"
   ]
  },
  {
   "cell_type": "code",
   "execution_count": 43,
   "id": "d215691f",
   "metadata": {},
   "outputs": [
    {
     "data": {
      "text/plain": [
       "[1, 3, 5]"
      ]
     },
     "execution_count": 43,
     "metadata": {},
     "output_type": "execute_result"
    }
   ],
   "source": [
    "new_list"
   ]
  },
  {
   "cell_type": "code",
   "execution_count": 1,
   "id": "786a5a2a",
   "metadata": {},
   "outputs": [],
   "source": [
    "# Given a DataFrame of dates, use the map() function to create a new column of day of week.\n",
    "import datetime\n",
    "import pandas as pd\n",
    "# Let create date range for the month of April\n",
    "dates_range = pd.date_range(start='04/4/2018', end='04/30/2018')\n",
    "april_dates = pd.DataFrame({'dates':dates_range})\n",
    "#april_dates"
   ]
  },
  {
   "cell_type": "code",
   "execution_count": 45,
   "id": "370beb89",
   "metadata": {},
   "outputs": [],
   "source": [
    "# Let create a function to return day name\n",
    "def day_week_name(dates):\n",
    "    day = dates.strftime('%A')\n",
    "    return day"
   ]
  },
  {
   "cell_type": "code",
   "execution_count": 46,
   "id": "3f15d51e",
   "metadata": {},
   "outputs": [],
   "source": [
    "#jj = april_dates.map(day_week_name)\n",
    "april_dates['day_name'] = april_dates['dates'].map(day_week_name)"
   ]
  },
  {
   "cell_type": "code",
   "execution_count": 47,
   "id": "9e7791e6",
   "metadata": {},
   "outputs": [
    {
     "data": {
      "text/html": [
       "<div>\n",
       "<style scoped>\n",
       "    .dataframe tbody tr th:only-of-type {\n",
       "        vertical-align: middle;\n",
       "    }\n",
       "\n",
       "    .dataframe tbody tr th {\n",
       "        vertical-align: top;\n",
       "    }\n",
       "\n",
       "    .dataframe thead th {\n",
       "        text-align: right;\n",
       "    }\n",
       "</style>\n",
       "<table border=\"1\" class=\"dataframe\">\n",
       "  <thead>\n",
       "    <tr style=\"text-align: right;\">\n",
       "      <th></th>\n",
       "      <th>dates</th>\n",
       "      <th>day_name</th>\n",
       "    </tr>\n",
       "  </thead>\n",
       "  <tbody>\n",
       "    <tr>\n",
       "      <th>0</th>\n",
       "      <td>2018-04-04</td>\n",
       "      <td>Wednesday</td>\n",
       "    </tr>\n",
       "    <tr>\n",
       "      <th>1</th>\n",
       "      <td>2018-04-05</td>\n",
       "      <td>Thursday</td>\n",
       "    </tr>\n",
       "    <tr>\n",
       "      <th>2</th>\n",
       "      <td>2018-04-06</td>\n",
       "      <td>Friday</td>\n",
       "    </tr>\n",
       "    <tr>\n",
       "      <th>3</th>\n",
       "      <td>2018-04-07</td>\n",
       "      <td>Saturday</td>\n",
       "    </tr>\n",
       "    <tr>\n",
       "      <th>4</th>\n",
       "      <td>2018-04-08</td>\n",
       "      <td>Sunday</td>\n",
       "    </tr>\n",
       "    <tr>\n",
       "      <th>5</th>\n",
       "      <td>2018-04-09</td>\n",
       "      <td>Monday</td>\n",
       "    </tr>\n",
       "    <tr>\n",
       "      <th>6</th>\n",
       "      <td>2018-04-10</td>\n",
       "      <td>Tuesday</td>\n",
       "    </tr>\n",
       "    <tr>\n",
       "      <th>7</th>\n",
       "      <td>2018-04-11</td>\n",
       "      <td>Wednesday</td>\n",
       "    </tr>\n",
       "    <tr>\n",
       "      <th>8</th>\n",
       "      <td>2018-04-12</td>\n",
       "      <td>Thursday</td>\n",
       "    </tr>\n",
       "    <tr>\n",
       "      <th>9</th>\n",
       "      <td>2018-04-13</td>\n",
       "      <td>Friday</td>\n",
       "    </tr>\n",
       "    <tr>\n",
       "      <th>10</th>\n",
       "      <td>2018-04-14</td>\n",
       "      <td>Saturday</td>\n",
       "    </tr>\n",
       "    <tr>\n",
       "      <th>11</th>\n",
       "      <td>2018-04-15</td>\n",
       "      <td>Sunday</td>\n",
       "    </tr>\n",
       "    <tr>\n",
       "      <th>12</th>\n",
       "      <td>2018-04-16</td>\n",
       "      <td>Monday</td>\n",
       "    </tr>\n",
       "    <tr>\n",
       "      <th>13</th>\n",
       "      <td>2018-04-17</td>\n",
       "      <td>Tuesday</td>\n",
       "    </tr>\n",
       "    <tr>\n",
       "      <th>14</th>\n",
       "      <td>2018-04-18</td>\n",
       "      <td>Wednesday</td>\n",
       "    </tr>\n",
       "    <tr>\n",
       "      <th>15</th>\n",
       "      <td>2018-04-19</td>\n",
       "      <td>Thursday</td>\n",
       "    </tr>\n",
       "    <tr>\n",
       "      <th>16</th>\n",
       "      <td>2018-04-20</td>\n",
       "      <td>Friday</td>\n",
       "    </tr>\n",
       "    <tr>\n",
       "      <th>17</th>\n",
       "      <td>2018-04-21</td>\n",
       "      <td>Saturday</td>\n",
       "    </tr>\n",
       "    <tr>\n",
       "      <th>18</th>\n",
       "      <td>2018-04-22</td>\n",
       "      <td>Sunday</td>\n",
       "    </tr>\n",
       "    <tr>\n",
       "      <th>19</th>\n",
       "      <td>2018-04-23</td>\n",
       "      <td>Monday</td>\n",
       "    </tr>\n",
       "    <tr>\n",
       "      <th>20</th>\n",
       "      <td>2018-04-24</td>\n",
       "      <td>Tuesday</td>\n",
       "    </tr>\n",
       "    <tr>\n",
       "      <th>21</th>\n",
       "      <td>2018-04-25</td>\n",
       "      <td>Wednesday</td>\n",
       "    </tr>\n",
       "    <tr>\n",
       "      <th>22</th>\n",
       "      <td>2018-04-26</td>\n",
       "      <td>Thursday</td>\n",
       "    </tr>\n",
       "    <tr>\n",
       "      <th>23</th>\n",
       "      <td>2018-04-27</td>\n",
       "      <td>Friday</td>\n",
       "    </tr>\n",
       "    <tr>\n",
       "      <th>24</th>\n",
       "      <td>2018-04-28</td>\n",
       "      <td>Saturday</td>\n",
       "    </tr>\n",
       "    <tr>\n",
       "      <th>25</th>\n",
       "      <td>2018-04-29</td>\n",
       "      <td>Sunday</td>\n",
       "    </tr>\n",
       "    <tr>\n",
       "      <th>26</th>\n",
       "      <td>2018-04-30</td>\n",
       "      <td>Monday</td>\n",
       "    </tr>\n",
       "  </tbody>\n",
       "</table>\n",
       "</div>"
      ],
      "text/plain": [
       "        dates   day_name\n",
       "0  2018-04-04  Wednesday\n",
       "1  2018-04-05   Thursday\n",
       "2  2018-04-06     Friday\n",
       "3  2018-04-07   Saturday\n",
       "4  2018-04-08     Sunday\n",
       "5  2018-04-09     Monday\n",
       "6  2018-04-10    Tuesday\n",
       "7  2018-04-11  Wednesday\n",
       "8  2018-04-12   Thursday\n",
       "9  2018-04-13     Friday\n",
       "10 2018-04-14   Saturday\n",
       "11 2018-04-15     Sunday\n",
       "12 2018-04-16     Monday\n",
       "13 2018-04-17    Tuesday\n",
       "14 2018-04-18  Wednesday\n",
       "15 2018-04-19   Thursday\n",
       "16 2018-04-20     Friday\n",
       "17 2018-04-21   Saturday\n",
       "18 2018-04-22     Sunday\n",
       "19 2018-04-23     Monday\n",
       "20 2018-04-24    Tuesday\n",
       "21 2018-04-25  Wednesday\n",
       "22 2018-04-26   Thursday\n",
       "23 2018-04-27     Friday\n",
       "24 2018-04-28   Saturday\n",
       "25 2018-04-29     Sunday\n",
       "26 2018-04-30     Monday"
      ]
     },
     "execution_count": 47,
     "metadata": {},
     "output_type": "execute_result"
    }
   ],
   "source": [
    "april_dates"
   ]
  },
  {
   "cell_type": "code",
   "execution_count": 48,
   "id": "71a9ed41",
   "metadata": {},
   "outputs": [],
   "source": [
    "# Given a list of strings, use the map() function to split each string into a list of words.\n",
    "words = ['Orange is good', 'Mango is great', 'Banana is ok']"
   ]
  },
  {
   "cell_type": "code",
   "execution_count": 49,
   "id": "12ad06b5",
   "metadata": {},
   "outputs": [
    {
     "data": {
      "text/plain": [
       "[['Orange', 'is', 'good'], ['Mango', 'is', 'great'], ['Banana', 'is', 'ok']]"
      ]
     },
     "execution_count": 49,
     "metadata": {},
     "output_type": "execute_result"
    }
   ],
   "source": [
    "list(map(lambda x: x.split(\" \"), words))"
   ]
  },
  {
   "cell_type": "code",
   "execution_count": 50,
   "id": "ffbca207",
   "metadata": {},
   "outputs": [],
   "source": [
    "# Given a DataFrame of product descriptions, use the map() function to create a new column of word counts\n",
    "products_table = pd.DataFrame({'item':['Milo','Lux', 'Dano'],\n",
    "                    'description':['Good chocollate tea', 'Nourishing bath soup', 'Good milk taste']})"
   ]
  },
  {
   "cell_type": "code",
   "execution_count": 51,
   "id": "3f8f032c",
   "metadata": {},
   "outputs": [],
   "source": [
    "products_table['desc_word_count'] = products_table['description'].map(lambda x: len(x))"
   ]
  },
  {
   "cell_type": "code",
   "execution_count": 52,
   "id": "534cdaee",
   "metadata": {},
   "outputs": [
    {
     "data": {
      "text/html": [
       "<div>\n",
       "<style scoped>\n",
       "    .dataframe tbody tr th:only-of-type {\n",
       "        vertical-align: middle;\n",
       "    }\n",
       "\n",
       "    .dataframe tbody tr th {\n",
       "        vertical-align: top;\n",
       "    }\n",
       "\n",
       "    .dataframe thead th {\n",
       "        text-align: right;\n",
       "    }\n",
       "</style>\n",
       "<table border=\"1\" class=\"dataframe\">\n",
       "  <thead>\n",
       "    <tr style=\"text-align: right;\">\n",
       "      <th></th>\n",
       "      <th>item</th>\n",
       "      <th>description</th>\n",
       "      <th>desc_word_count</th>\n",
       "    </tr>\n",
       "  </thead>\n",
       "  <tbody>\n",
       "    <tr>\n",
       "      <th>0</th>\n",
       "      <td>Milo</td>\n",
       "      <td>Good chocollate tea</td>\n",
       "      <td>19</td>\n",
       "    </tr>\n",
       "    <tr>\n",
       "      <th>1</th>\n",
       "      <td>Lux</td>\n",
       "      <td>Nourishing bath soup</td>\n",
       "      <td>20</td>\n",
       "    </tr>\n",
       "    <tr>\n",
       "      <th>2</th>\n",
       "      <td>Dano</td>\n",
       "      <td>Good milk taste</td>\n",
       "      <td>15</td>\n",
       "    </tr>\n",
       "  </tbody>\n",
       "</table>\n",
       "</div>"
      ],
      "text/plain": [
       "   item           description  desc_word_count\n",
       "0  Milo   Good chocollate tea               19\n",
       "1   Lux  Nourishing bath soup               20\n",
       "2  Dano       Good milk taste               15"
      ]
     },
     "execution_count": 52,
     "metadata": {},
     "output_type": "execute_result"
    }
   ],
   "source": [
    "products_table"
   ]
  },
  {
   "cell_type": "markdown",
   "id": "621425f0",
   "metadata": {},
   "source": [
    "**Reduce Exercises**\n",
    "\n",
    "---\n",
    "\n",
    "\n",
    "* Given a list of numbers, use the reduce() function to find the sum of the numbers.\n",
    "* Given a list of strings, use the reduce() function to concatenate the strings.\n",
    "* Given a list of tuples, use the reduce() function to find the product of the first elements.\n",
    "* Given a list of numbers, use the reduce() function to find the maximum value.\n",
    "* Given a list of strings, use the reduce() function to find the longest string.\n",
    "* Given a list of tuples, use the reduce() function to find the minimum value of the second elements.\n",
    "* Given a list of numbers, use the reduce() function to find the product of the numbers.\n",
    "* Given a list of strings, use the reduce() function to find the total length of all the strings.\n",
    "* Given a list of tuples, use the reduce() function to find the sum of the second elements where the first elements are even.\n",
    "* Given a list of dictionaries, use the reduce() function to find the dictionary with the maximum value for a specific key."
   ]
  },
  {
   "cell_type": "markdown",
   "id": "8e01d9ff",
   "metadata": {},
   "source": [
    "**Reduce Function for Data Aggregation**\n",
    "\n",
    "---\n",
    "\n",
    "\n",
    "The reduce() function can be used to aggregate data in a DataFrame or Series."
   ]
  },
  {
   "cell_type": "code",
   "execution_count": 53,
   "id": "081cb209",
   "metadata": {},
   "outputs": [
    {
     "name": "stdout",
     "output_type": "stream",
     "text": [
      "17\n"
     ]
    }
   ],
   "source": [
    "import pandas as pd\n",
    "from functools import reduce\n",
    "import operator as op\n",
    "# Let create function \n",
    "def my_add(a,b):\n",
    "    results = a+b\n",
    "    return results\n",
    "list_num = [2,4,5,6]\n",
    "list_reduce = reduce(my_add, list_num)\n",
    "print(list_reduce)"
   ]
  },
  {
   "cell_type": "code",
   "execution_count": 54,
   "id": "5ce17da3",
   "metadata": {},
   "outputs": [
    {
     "data": {
      "text/plain": [
       "'Olayinka'"
      ]
     },
     "execution_count": 54,
     "metadata": {},
     "output_type": "execute_result"
    }
   ],
   "source": [
    "# Given a list of strings, use the reduce() function to concatenate the strings.\n",
    "list_string = ['O','l','a','y','i','n','k','a']\n",
    "reduce(op.concat,list_string)\n"
   ]
  },
  {
   "cell_type": "code",
   "execution_count": 55,
   "id": "15036df2",
   "metadata": {},
   "outputs": [
    {
     "data": {
      "text/plain": [
       "10"
      ]
     },
     "execution_count": 55,
     "metadata": {},
     "output_type": "execute_result"
    }
   ],
   "source": [
    "# Given a list of numbers, use the reduce() function to find the maximum value\n",
    "list_num = [2,4,5,10,6]\n",
    "reduce(max, list_num)"
   ]
  },
  {
   "cell_type": "code",
   "execution_count": 56,
   "id": "5ff31a1d",
   "metadata": {},
   "outputs": [],
   "source": [
    "# Given a list of strings, use the reduce() function to find the longest string.\n",
    "list_strings = ['cat','dog', 'monkey', 'fish']\n",
    "strings_reduce = reduce(lambda x,y: max(x,y ,key=len), list_strings)"
   ]
  },
  {
   "cell_type": "code",
   "execution_count": 57,
   "id": "04dd7de2",
   "metadata": {},
   "outputs": [
    {
     "data": {
      "text/plain": [
       "'monkey'"
      ]
     },
     "execution_count": 57,
     "metadata": {},
     "output_type": "execute_result"
    }
   ],
   "source": [
    "reduce(lambda x,y: max(x,y ,key=len), list_strings)"
   ]
  },
  {
   "cell_type": "code",
   "execution_count": 58,
   "id": "51a41848",
   "metadata": {},
   "outputs": [
    {
     "data": {
      "text/plain": [
       "'a'"
      ]
     },
     "execution_count": 58,
     "metadata": {},
     "output_type": "execute_result"
    }
   ],
   "source": [
    "# Given a list of tuples, use the reduce() function to find the minimum value of the second elements\n",
    "tuple_strings = ('apple', 'mango','banana','mango','pawpaw')\n",
    "min_strings = reduce(lambda x,y: min(x,y[1], key=len),tuple_strings)\n",
    "min_strings"
   ]
  },
  {
   "cell_type": "code",
   "execution_count": 59,
   "id": "02493fcf",
   "metadata": {},
   "outputs": [
    {
     "data": {
      "text/plain": [
       "5040"
      ]
     },
     "execution_count": 59,
     "metadata": {},
     "output_type": "execute_result"
    }
   ],
   "source": [
    "# Given a list of numbers, use the reduce() function to find the product of the numbers.\n",
    "list_product = [3,5,6,7,8]\n",
    "product =reduce(lambda x,y: x*y,list_product)\n",
    "product"
   ]
  },
  {
   "cell_type": "code",
   "execution_count": 60,
   "id": "6ccef6bd",
   "metadata": {},
   "outputs": [
    {
     "data": {
      "text/plain": [
       "16"
      ]
     },
     "execution_count": 60,
     "metadata": {},
     "output_type": "execute_result"
    }
   ],
   "source": [
    "# Given a list of strings, use the reduce() function to find the total length of all the strings\n",
    "list_strings = ['cat','dog', 'monkey', 'fish']\n",
    "list_len = len(reduce(lambda x,y: x + y, list_strings))\n",
    "list_len"
   ]
  },
  {
   "cell_type": "code",
   "execution_count": 61,
   "id": "bd4a8c72",
   "metadata": {},
   "outputs": [],
   "source": [
    "# Given a list of tuples, use the reduce() function to find the sum of the second elements where the first elements are even.\n",
    "list_tuple = ((1,2,3,4),(3,6,7,8),(8,3,2,1))"
   ]
  },
  {
   "cell_type": "code",
   "execution_count": 62,
   "id": "68eb8525",
   "metadata": {},
   "outputs": [
    {
     "data": {
      "text/plain": [
       "24"
      ]
     },
     "execution_count": 62,
     "metadata": {},
     "output_type": "execute_result"
    }
   ],
   "source": [
    "reduce(lambda x,y: x+y, list_tuple[1])"
   ]
  },
  {
   "cell_type": "code",
   "execution_count": 63,
   "id": "6c3e77f1",
   "metadata": {},
   "outputs": [
    {
     "data": {
      "text/plain": [
       "{'a': 10, 'b': 2}"
      ]
     },
     "execution_count": 63,
     "metadata": {},
     "output_type": "execute_result"
    }
   ],
   "source": [
    "# Given a list of dictionaries, use the reduce() function to find the dictionary with the maximum value for a specific key.\n",
    "data = [{'a': 3, 'b': 5}, {'a': 4, 'b': 6}, {'a': 8, 'b': 2},  {'a': 10, 'b': 2}]\n",
    "key = 'a'\n",
    "reduce(lambda x,y: x if x[key] > y[key] else y, data)"
   ]
  },
  {
   "cell_type": "markdown",
   "id": "eead1a90",
   "metadata": {},
   "source": [
    "**Filter Exercises**\n",
    "\n",
    "---\n",
    "* Given a list of numbers, use the filter() function to keep only the even numbers.\n",
    "* Given a list of strings, use the filter() function to keep only the strings containing the letter 'a'.\n",
    "* Given a list of dictionaries, use the filter() function to keep only the dictionaries where a specific key exists.\n",
    "* Given a list of tuples, use the filter() function to keep only the tuples where the first element is greater than the second element.\n",
    "* Given a list of numbers, use the filter() function to keep only the numbers greater than 10.\n",
    "* Given a list of strings, use the filter() function to keep only the strings longer than 10 characters.\n",
    "* Given a list of tuples, use the filter() function to keep only the tuples where both elements are positive.\n",
    "* Given a list of dictionaries, use the filter() function to keep only the dictionaries where all keys have values.\n",
    "* Given a list of strings, use the filter() function to keep only the strings that are palindromes.\n",
    "* Given a list of numbers, use the filter() function to keep only the numbers that are perfect squares."
   ]
  },
  {
   "cell_type": "code",
   "execution_count": 101,
   "id": "96d14f2d",
   "metadata": {},
   "outputs": [
    {
     "data": {
      "text/plain": [
       "[4, 58, 6]"
      ]
     },
     "execution_count": 101,
     "metadata": {},
     "output_type": "execute_result"
    }
   ],
   "source": [
    "# Given a list of numbers, use the filter() function to keep only the even numbers\n",
    "num_list = [3,4,58,21,57,6,33]\n",
    "filter_even = filter(lambda x: x%2 == 0, num_list)\n",
    "list(filter_even)"
   ]
  },
  {
   "cell_type": "code",
   "execution_count": 107,
   "id": "9781983f",
   "metadata": {},
   "outputs": [
    {
     "data": {
      "text/plain": [
       "['cat', 'rat', 'pat']"
      ]
     },
     "execution_count": 107,
     "metadata": {},
     "output_type": "execute_result"
    }
   ],
   "source": [
    "# Given a list of strings, use the filter() function to keep only the strings containing the letter 'a\n",
    "string_list = ['dog','cat','cow','rat','pat']\n",
    "list(filter(lambda x: 'a' in x, string_list))"
   ]
  },
  {
   "cell_type": "code",
   "execution_count": 132,
   "id": "ec3ac8ca",
   "metadata": {},
   "outputs": [
    {
     "name": "stdout",
     "output_type": "stream",
     "text": [
      "['name', 'surname']\n"
     ]
    }
   ],
   "source": [
    "# Given a list of dictionaries, use the filter() function to keep only the dictionaries where a specific key exists.\n",
    "my_dict = {'name': ['cat','alice'], 'surname': ['rice','beans'], 'food': ['cake','rake']}\n",
    "key = 'a'\n",
    "new_list = list(filter(lambda x: key in x, dict_list))\n",
    "print(new_list)"
   ]
  },
  {
   "cell_type": "code",
   "execution_count": 129,
   "id": "d92db3e8",
   "metadata": {},
   "outputs": [],
   "source": [
    "a = list(filter(lambda x: key in x, dict_list))"
   ]
  },
  {
   "cell_type": "code",
   "execution_count": 130,
   "id": "02067a4a",
   "metadata": {},
   "outputs": [
    {
     "data": {
      "text/plain": [
       "['name', 'surname']"
      ]
     },
     "execution_count": 130,
     "metadata": {},
     "output_type": "execute_result"
    }
   ],
   "source": [
    "a"
   ]
  },
  {
   "cell_type": "code",
   "execution_count": null,
   "id": "0075b92a",
   "metadata": {},
   "outputs": [],
   "source": []
  }
 ],
 "metadata": {
  "kernelspec": {
   "display_name": "Python 3 (ipykernel)",
   "language": "python",
   "name": "python3"
  },
  "language_info": {
   "codemirror_mode": {
    "name": "ipython",
    "version": 3
   },
   "file_extension": ".py",
   "mimetype": "text/x-python",
   "name": "python",
   "nbconvert_exporter": "python",
   "pygments_lexer": "ipython3",
   "version": "3.9.7"
  }
 },
 "nbformat": 4,
 "nbformat_minor": 5
}
